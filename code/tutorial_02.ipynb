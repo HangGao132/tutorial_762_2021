{
 "cells": [
  {
   "cell_type": "markdown",
   "id": "surgical-finance",
   "metadata": {},
   "source": [
    "# Tutorial 2"
   ]
  },
  {
   "cell_type": "code",
   "execution_count": 1,
   "id": "integral-sphere",
   "metadata": {},
   "outputs": [],
   "source": [
    "import os\n",
    "from math import log2\n",
    "\n",
    "import numpy as np\n",
    "from sklearn import tree\n",
    "from sklearn.tree import DecisionTreeClassifier\n",
    "from sklearn import datasets\n",
    "from sklearn.model_selection import train_test_split\n",
    "import matplotlib.pyplot as plt\n",
    "import pandas as pd"
   ]
  },
  {
   "cell_type": "code",
   "execution_count": 2,
   "id": "integrated-pulse",
   "metadata": {},
   "outputs": [],
   "source": [
    "# Reload local python files every 2 seconds\n",
    "\n",
    "%load_ext autoreload\n",
    "%autoreload 2"
   ]
  },
  {
   "cell_type": "markdown",
   "id": "potential-tobacco",
   "metadata": {},
   "source": [
    "## Build Tree Classifier from Logic Function\n",
    "\n",
    "### A and (not B)"
   ]
  },
  {
   "cell_type": "code",
   "execution_count": 3,
   "id": "compound-syracuse",
   "metadata": {},
   "outputs": [],
   "source": [
    "RANDOM_STATE = 1234"
   ]
  },
  {
   "cell_type": "code",
   "execution_count": 4,
   "id": "perceived-reminder",
   "metadata": {},
   "outputs": [],
   "source": [
    "X = np.array([\n",
    "    [0, 0],\n",
    "    [1, 0],\n",
    "    [0, 1],\n",
    "    [1, 1]])\n",
    "\n",
    "y = np.array([0, 1, 0, 0])"
   ]
  },
  {
   "cell_type": "code",
   "execution_count": 5,
   "id": "applied-dispute",
   "metadata": {},
   "outputs": [
    {
     "data": {
      "text/plain": [
       "DecisionTreeClassifier(criterion='entropy', random_state=1234)"
      ]
     },
     "execution_count": 5,
     "metadata": {},
     "output_type": "execute_result"
    }
   ],
   "source": [
    "model = DecisionTreeClassifier(criterion='entropy', random_state=RANDOM_STATE)\n",
    "model.fit(X, y)"
   ]
  },
  {
   "cell_type": "code",
   "execution_count": 6,
   "id": "spectacular-curtis",
   "metadata": {},
   "outputs": [
    {
     "data": {
      "image/png": "[encoded data removed]",
      "text/plain": [
       "<Figure size 432x288 with 1 Axes>"
      ]
     },
     "metadata": {
      "needs_background": "light"
     },
     "output_type": "display_data"
    }
   ],
   "source": [
    "tree.plot_tree(model)\n",
    "plt.savefig('plots/tree_logic_01.pdf', format='pdf', dpi=1200, bbox_inches='tight')"
   ]
  },
  {
   "cell_type": "markdown",
   "id": "frank-turkey",
   "metadata": {},
   "source": [
    "## Cross-Validation\n",
    "\n",
    "We use the \"yeast\" dataset from last week."
   ]
  },
  {
   "cell_type": "code",
   "execution_count": 7,
   "id": "horizontal-indie",
   "metadata": {},
   "outputs": [
    {
     "data": {
      "text/html": [
       "<div>\n",
       "<style scoped>\n",
       "    .dataframe tbody tr th:only-of-type {\n",
       "        vertical-align: middle;\n",
       "    }\n",
       "\n",
       "    .dataframe tbody tr th {\n",
       "        vertical-align: top;\n",
       "    }\n",
       "\n",
       "    .dataframe thead th {\n",
       "        text-align: right;\n",
       "    }\n",
       "</style>\n",
       "<table border=\"1\" class=\"dataframe\">\n",
       "  <thead>\n",
       "    <tr style=\"text-align: right;\">\n",
       "      <th></th>\n",
       "      <th>Mcg</th>\n",
       "      <th>Gvh</th>\n",
       "      <th>Alm</th>\n",
       "      <th>Mit</th>\n",
       "      <th>Erl</th>\n",
       "      <th>Pox</th>\n",
       "      <th>Vac</th>\n",
       "      <th>Nuc</th>\n",
       "      <th>Class</th>\n",
       "    </tr>\n",
       "  </thead>\n",
       "  <tbody>\n",
       "    <tr>\n",
       "      <th>0</th>\n",
       "      <td>0.58</td>\n",
       "      <td>0.61</td>\n",
       "      <td>0.47</td>\n",
       "      <td>0.13</td>\n",
       "      <td>0.5</td>\n",
       "      <td>0.0</td>\n",
       "      <td>0.48</td>\n",
       "      <td>0.22</td>\n",
       "      <td>0</td>\n",
       "    </tr>\n",
       "    <tr>\n",
       "      <th>1</th>\n",
       "      <td>0.43</td>\n",
       "      <td>0.67</td>\n",
       "      <td>0.48</td>\n",
       "      <td>0.27</td>\n",
       "      <td>0.5</td>\n",
       "      <td>0.0</td>\n",
       "      <td>0.53</td>\n",
       "      <td>0.22</td>\n",
       "      <td>0</td>\n",
       "    </tr>\n",
       "    <tr>\n",
       "      <th>2</th>\n",
       "      <td>0.64</td>\n",
       "      <td>0.62</td>\n",
       "      <td>0.49</td>\n",
       "      <td>0.15</td>\n",
       "      <td>0.5</td>\n",
       "      <td>0.0</td>\n",
       "      <td>0.53</td>\n",
       "      <td>0.22</td>\n",
       "      <td>0</td>\n",
       "    </tr>\n",
       "    <tr>\n",
       "      <th>3</th>\n",
       "      <td>0.58</td>\n",
       "      <td>0.44</td>\n",
       "      <td>0.57</td>\n",
       "      <td>0.13</td>\n",
       "      <td>0.5</td>\n",
       "      <td>0.0</td>\n",
       "      <td>0.54</td>\n",
       "      <td>0.22</td>\n",
       "      <td>1</td>\n",
       "    </tr>\n",
       "    <tr>\n",
       "      <th>4</th>\n",
       "      <td>0.42</td>\n",
       "      <td>0.44</td>\n",
       "      <td>0.48</td>\n",
       "      <td>0.54</td>\n",
       "      <td>0.5</td>\n",
       "      <td>0.0</td>\n",
       "      <td>0.48</td>\n",
       "      <td>0.22</td>\n",
       "      <td>0</td>\n",
       "    </tr>\n",
       "  </tbody>\n",
       "</table>\n",
       "</div>"
      ],
      "text/plain": [
       "    Mcg   Gvh   Alm   Mit  Erl  Pox   Vac   Nuc  Class\n",
       "0  0.58  0.61  0.47  0.13  0.5  0.0  0.48  0.22      0\n",
       "1  0.43  0.67  0.48  0.27  0.5  0.0  0.53  0.22      0\n",
       "2  0.64  0.62  0.49  0.15  0.5  0.0  0.53  0.22      0\n",
       "3  0.58  0.44  0.57  0.13  0.5  0.0  0.54  0.22      1\n",
       "4  0.42  0.44  0.48  0.54  0.5  0.0  0.48  0.22      0"
      ]
     },
     "execution_count": 7,
     "metadata": {},
     "output_type": "execute_result"
    }
   ],
   "source": [
    "PATH_YEAST_CLEAN = os.path.join('results', 'yeast.csv')\n",
    "yeast = pd.read_csv(PATH_YEAST_CLEAN, sep=',')\n",
    "yeast.head()"
   ]
  },
  {
   "cell_type": "code",
   "execution_count": 8,
   "id": "allied-holmes",
   "metadata": {},
   "outputs": [
    {
     "name": "stdout",
     "output_type": "stream",
     "text": [
      "(1484, 8) (1484,)\n"
     ]
    }
   ],
   "source": [
    "# Split data \n",
    "y = yeast['Class'].to_numpy()\n",
    "X = yeast.drop(['Class'], axis=1).to_numpy()\n",
    "\n",
    "print(X.shape, y.shape)"
   ]
  },
  {
   "cell_type": "code",
   "execution_count": 9,
   "id": "intimate-essence",
   "metadata": {},
   "outputs": [
    {
     "name": "stdout",
     "output_type": "stream",
     "text": [
      "(1187, 8) (297, 8)\n"
     ]
    }
   ],
   "source": [
    "X_train, X_test, y_train, y_test = train_test_split(X, y, test_size=0.2, random_state=RANDOM_STATE)\n",
    "print(X_train.shape, X_test.shape)"
   ]
  },
  {
   "cell_type": "markdown",
   "id": "empty-cleanup",
   "metadata": {},
   "source": [
    "### Appling CV on the training set"
   ]
  },
  {
   "cell_type": "code",
   "execution_count": 10,
   "id": "becoming-divide",
   "metadata": {},
   "outputs": [],
   "source": [
    "from sklearn.model_selection import cross_val_score"
   ]
  },
  {
   "cell_type": "markdown",
   "id": "arbitrary-parking",
   "metadata": {},
   "source": [
    "### Without CV (An overfitting example)\n",
    "\n",
    "We allow the nodes to expand freely until all leaves are pure."
   ]
  },
  {
   "cell_type": "code",
   "execution_count": 11,
   "id": "cardiac-appeal",
   "metadata": {},
   "outputs": [
    {
     "name": "stdout",
     "output_type": "stream",
     "text": [
      "Acc on training set: 1.000\n",
      "Acc on test set:     0.539\n",
      "Depth: 21\n"
     ]
    }
   ],
   "source": [
    "model = DecisionTreeClassifier(random_state=RANDOM_STATE, criterion='entropy')\n",
    "model.fit(X_train, y_train)\n",
    "\n",
    "scores = model.score(X_train, y_train)\n",
    "print('Acc on training set: {:.3f}'.format(scores))\n",
    "\n",
    "scores = model.score(X_test, y_test)\n",
    "print('Acc on test set:     {:.3f}'.format(scores))\n",
    "\n",
    "print('Depth:', model.get_depth())"
   ]
  },
  {
   "cell_type": "code",
   "execution_count": 12,
   "id": "completed-turkish",
   "metadata": {},
   "outputs": [
    {
     "data": {
      "image/png": "[encoded data removed]",
      "text/plain": [
       "<Figure size 432x288 with 1 Axes>"
      ]
     },
     "metadata": {
      "needs_background": "light"
     },
     "output_type": "display_data"
    }
   ],
   "source": [
    "tree.plot_tree(model)\n",
    "plt.show()"
   ]
  },
  {
   "cell_type": "markdown",
   "id": "clear-graduate",
   "metadata": {},
   "source": [
    "### Choosing between ``max_depth=5`` and ``max_depth=10``"
   ]
  },
  {
   "cell_type": "code",
   "execution_count": 13,
   "id": "indonesian-driver",
   "metadata": {},
   "outputs": [
    {
     "name": "stdout",
     "output_type": "stream",
     "text": [
      "[0.57563025 0.5        0.55696203 0.57805907 0.5443038 ]\n",
      "Score mean: 0.551, std: 0.028\n"
     ]
    },
    {
     "name": "stderr",
     "output_type": "stream",
     "text": [
      "C:\\Users\\Luke Chang\\.conda\\envs\\venv\\lib\\site-packages\\sklearn\\model_selection\\_split.py:666: UserWarning: The least populated class in y has only 4 members, which is less than n_splits=5.\n",
      "  warnings.warn((\"The least populated class in y has only %d\"\n"
     ]
    }
   ],
   "source": [
    "model = DecisionTreeClassifier(random_state=RANDOM_STATE, criterion='entropy', max_depth=5)\n",
    "scores = cross_val_score(model, X_train, y_train, cv=5)\n",
    "print(scores)\n",
    "print('Score mean: {:.3f}, std: {:.3f}'.format(scores.mean(), scores.std()))"
   ]
  },
  {
   "cell_type": "code",
   "execution_count": 14,
   "id": "prostate-thursday",
   "metadata": {},
   "outputs": [
    {
     "name": "stdout",
     "output_type": "stream",
     "text": [
      "[0.57142857 0.5        0.57383966 0.5443038  0.53164557]\n",
      "Score mean: 0.544, std: 0.027\n"
     ]
    },
    {
     "name": "stderr",
     "output_type": "stream",
     "text": [
      "C:\\Users\\Luke Chang\\.conda\\envs\\venv\\lib\\site-packages\\sklearn\\model_selection\\_split.py:666: UserWarning: The least populated class in y has only 4 members, which is less than n_splits=5.\n",
      "  warnings.warn((\"The least populated class in y has only %d\"\n"
     ]
    }
   ],
   "source": [
    "model = DecisionTreeClassifier(random_state=RANDOM_STATE, criterion='entropy', max_depth=10)\n",
    "scores = cross_val_score(model, X_train, y_train, cv=5)\n",
    "print(scores)\n",
    "print('Score mean: {:.3f}, std: {:.3f}'.format(scores.mean(), scores.std()))"
   ]
  },
  {
   "cell_type": "markdown",
   "id": "threatened-civilian",
   "metadata": {},
   "source": [
    "### Training the model\n",
    "\n",
    "Once we decide the hyperparameter, we train the model with the entire training set.\n",
    "\n",
    "In a 5-folds CV, we do not want to lose 20% of the training data."
   ]
  },
  {
   "cell_type": "code",
   "execution_count": 15,
   "id": "polyphonic-shaft",
   "metadata": {},
   "outputs": [
    {
     "name": "stdout",
     "output_type": "stream",
     "text": [
      "Acc on the test set:  0.593\n"
     ]
    }
   ],
   "source": [
    "model = DecisionTreeClassifier(random_state=RANDOM_STATE, criterion='entropy', max_depth=5)\n",
    "model.fit(X_train, y_train)\n",
    "score_test = model.score(X_test, y_test)\n",
    "print('Acc on the test set:  {:.3f}'.format(score_test))"
   ]
  },
  {
   "cell_type": "markdown",
   "id": "horizontal-arcade",
   "metadata": {},
   "source": [
    "### The simpler model works better in this case"
   ]
  },
  {
   "cell_type": "code",
   "execution_count": 16,
   "id": "imperial-eight",
   "metadata": {},
   "outputs": [
    {
     "data": {
      "image/png": "[encoded data removed]",
      "text/plain": [
       "<Figure size 432x288 with 1 Axes>"
      ]
     },
     "metadata": {
      "needs_background": "light"
     },
     "output_type": "display_data"
    }
   ],
   "source": [
    "tree.plot_tree(model)\n",
    "plt.show()"
   ]
  },
  {
   "cell_type": "markdown",
   "id": "choice-hebrew",
   "metadata": {},
   "source": [
    "### Using ``GridSearchCV`` method to test multiple candidates at once"
   ]
  },
  {
   "cell_type": "code",
   "execution_count": 17,
   "id": "burning-choir",
   "metadata": {},
   "outputs": [],
   "source": [
    "from sklearn.model_selection import GridSearchCV"
   ]
  },
  {
   "cell_type": "markdown",
   "id": "irish-ensemble",
   "metadata": {},
   "source": [
    "Using 5-folds CV testing ``max_depth``$\\in \\{2, 3,...,20\\}$"
   ]
  },
  {
   "cell_type": "code",
   "execution_count": 18,
   "id": "fiscal-antigua",
   "metadata": {},
   "outputs": [
    {
     "name": "stderr",
     "output_type": "stream",
     "text": [
      "C:\\Users\\Luke Chang\\.conda\\envs\\venv\\lib\\site-packages\\sklearn\\model_selection\\_split.py:666: UserWarning: The least populated class in y has only 4 members, which is less than n_splits=5.\n",
      "  warnings.warn((\"The least populated class in y has only %d\"\n"
     ]
    },
    {
     "data": {
      "text/plain": [
       "GridSearchCV(cv=5, estimator=DecisionTreeClassifier(random_state=1234),\n",
       "             param_grid=[{'criterion': ['entropy'],\n",
       "                          'max_depth': array([ 2,  3,  4,  5,  6,  7,  8,  9, 10, 11, 12, 13, 14, 15, 16, 17, 18,\n",
       "       19, 20])}])"
      ]
     },
     "execution_count": 18,
     "metadata": {},
     "output_type": "execute_result"
    }
   ],
   "source": [
    "params = [{\n",
    "    'max_depth': np.arange(2, 21), \n",
    "    'criterion': ['entropy']\n",
    "}]\n",
    "dt = DecisionTreeClassifier(random_state=RANDOM_STATE)\n",
    "grid_search = GridSearchCV(dt, params, cv=5)\n",
    "grid_search.fit(X_train, y_train)"
   ]
  },
  {
   "cell_type": "code",
   "execution_count": 19,
   "id": "amateur-machinery",
   "metadata": {},
   "outputs": [
    {
     "data": {
      "text/plain": [
       "DecisionTreeClassifier(criterion='entropy', max_depth=7, random_state=1234)"
      ]
     },
     "execution_count": 19,
     "metadata": {},
     "output_type": "execute_result"
    }
   ],
   "source": [
    "# Indeed, the best max_depth is 5.\n",
    "grid_search.best_estimator_"
   ]
  },
  {
   "cell_type": "markdown",
   "id": "silver-islam",
   "metadata": {},
   "source": [
    "## ROC and AUC"
   ]
  },
  {
   "cell_type": "code",
   "execution_count": 20,
   "id": "introductory-orange",
   "metadata": {},
   "outputs": [],
   "source": [
    "from sklearn.svm import SVC\n",
    "from sklearn.metrics import roc_curve, roc_auc_score"
   ]
  },
  {
   "cell_type": "code",
   "execution_count": 21,
   "id": "hindu-player",
   "metadata": {},
   "outputs": [],
   "source": [
    "# roc_curve only works on binary classification\n",
    "breast_cancer = datasets.load_breast_cancer()\n",
    "X = breast_cancer.data\n",
    "y = breast_cancer.target\n",
    "X_train, X_test, y_train, y_test = train_test_split(X, y, test_size=284, random_state=RANDOM_STATE)"
   ]
  },
  {
   "cell_type": "code",
   "execution_count": 22,
   "id": "official-baltimore",
   "metadata": {},
   "outputs": [
    {
     "data": {
      "text/plain": [
       "DecisionTreeClassifier(criterion='entropy', max_depth=4, random_state=1234)"
      ]
     },
     "execution_count": 22,
     "metadata": {},
     "output_type": "execute_result"
    }
   ],
   "source": [
    "model = DecisionTreeClassifier(criterion='entropy', max_depth=4, random_state=RANDOM_STATE)\n",
    "model.fit(X_train, y_train)"
   ]
  },
  {
   "cell_type": "code",
   "execution_count": 23,
   "id": "dramatic-federal",
   "metadata": {},
   "outputs": [],
   "source": [
    "proba = model.predict_proba(X_test)\n",
    "fpr, tpr, threshold = roc_curve(y_test, proba[:, 1])\n",
    "auc_score = roc_auc_score(y_test, proba[:, 1])"
   ]
  },
  {
   "cell_type": "code",
   "execution_count": 24,
   "id": "protective-memorial",
   "metadata": {},
   "outputs": [
    {
     "data": {
      "image/png": "[encoded data removed]",
      "text/plain": [
       "<Figure size 324x324 with 1 Axes>"
      ]
     },
     "metadata": {
      "needs_background": "light"
     },
     "output_type": "display_data"
    }
   ],
   "source": [
    "plt.figure(figsize=(4.5, 4.5))\n",
    "plt.xlim(0., 1.1)\n",
    "plt.ylim(0., 1.1)\n",
    "plt.plot(fpr, tpr, label='ROC (AUC = %0.4f)' % auc_score)\n",
    "plt.legend(loc='lower right')\n",
    "plt.title(\"ROC Curve\")\n",
    "plt.xlabel(\"FPR\")\n",
    "plt.ylabel(\"TPR\")\n",
    "plt.show()"
   ]
  },
  {
   "cell_type": "markdown",
   "id": "alive-worthy",
   "metadata": {},
   "source": [
    "## Autorank and Nemenyi test\n",
    "\n",
    "Simplify the comparison between (multiple) paired populations. \n",
    "\n",
    "This module picks the correct test for you based on the data.\n",
    "\n",
    "- Paired t-test\n",
    "- The Wilcoxon signed rank test\n",
    "- The Friedman test\n",
    "- Repeated ANOVA \n",
    "- Tukey's HSD test\n",
    "\n",
    "If the module is not installed, run ``python -m pip install autorank``"
   ]
  },
  {
   "cell_type": "code",
   "execution_count": 25,
   "id": "rural-charger",
   "metadata": {},
   "outputs": [],
   "source": [
    "from autorank import autorank, create_report, plot_stats"
   ]
  },
  {
   "cell_type": "code",
   "execution_count": 26,
   "id": "engaged-stage",
   "metadata": {},
   "outputs": [
    {
     "data": {
      "text/html": [
       "<div>\n",
       "<style scoped>\n",
       "    .dataframe tbody tr th:only-of-type {\n",
       "        vertical-align: middle;\n",
       "    }\n",
       "\n",
       "    .dataframe tbody tr th {\n",
       "        vertical-align: top;\n",
       "    }\n",
       "\n",
       "    .dataframe thead th {\n",
       "        text-align: right;\n",
       "    }\n",
       "</style>\n",
       "<table border=\"1\" class=\"dataframe\">\n",
       "  <thead>\n",
       "    <tr style=\"text-align: right;\">\n",
       "      <th></th>\n",
       "      <th>model_0</th>\n",
       "      <th>model_1</th>\n",
       "      <th>model_2</th>\n",
       "    </tr>\n",
       "  </thead>\n",
       "  <tbody>\n",
       "    <tr>\n",
       "      <th>0</th>\n",
       "      <td>0.741431</td>\n",
       "      <td>0.789206</td>\n",
       "      <td>0.922860</td>\n",
       "    </tr>\n",
       "    <tr>\n",
       "      <th>1</th>\n",
       "      <td>0.242707</td>\n",
       "      <td>0.653209</td>\n",
       "      <td>0.730066</td>\n",
       "    </tr>\n",
       "    <tr>\n",
       "      <th>2</th>\n",
       "      <td>1.000000</td>\n",
       "      <td>0.908026</td>\n",
       "      <td>0.910843</td>\n",
       "    </tr>\n",
       "    <tr>\n",
       "      <th>3</th>\n",
       "      <td>0.506204</td>\n",
       "      <td>1.000000</td>\n",
       "      <td>0.277507</td>\n",
       "    </tr>\n",
       "    <tr>\n",
       "      <th>4</th>\n",
       "      <td>0.383823</td>\n",
       "      <td>1.000000</td>\n",
       "      <td>0.974338</td>\n",
       "    </tr>\n",
       "  </tbody>\n",
       "</table>\n",
       "</div>"
      ],
      "text/plain": [
       "    model_0   model_1   model_2\n",
       "0  0.741431  0.789206  0.922860\n",
       "1  0.242707  0.653209  0.730066\n",
       "2  1.000000  0.908026  0.910843\n",
       "3  0.506204  1.000000  0.277507\n",
       "4  0.383823  1.000000  0.974338"
      ]
     },
     "execution_count": 26,
     "metadata": {},
     "output_type": "execute_result"
    }
   ],
   "source": [
    "np.random.seed(RANDOM_STATE)\n",
    "\n",
    "std = 0.3\n",
    "means = [0.6, 0.85, 0.9]\n",
    "sample_size = 20  # Repeat the experiment 20 times\n",
    "df = pd.DataFrame()\n",
    "for i, mean in enumerate(means):\n",
    "    df['model_%i' % i] = np.random.normal(mean, std, sample_size).clip(0, 1)\n",
    "\n",
    "df.head()"
   ]
  },
  {
   "cell_type": "code",
   "execution_count": 27,
   "id": "incomplete-knight",
   "metadata": {},
   "outputs": [
    {
     "name": "stdout",
     "output_type": "stream",
     "text": [
      "RankResult(rankdf=\n",
      "         meanrank    median       mad  ci_lower ci_upper effect_size  \\\n",
      "model_1      1.70  0.929629  0.104332  0.709208      1.0         0.0   \n",
      "model_2      1.75  0.897416   0.15209  0.479408      1.0    0.246997   \n",
      "model_0      2.55  0.645718  0.353566  0.135928      1.0    1.089171   \n",
      "\n",
      "          magnitude  \n",
      "model_1  negligible  \n",
      "model_2       small  \n",
      "model_0       large  \n",
      "pvalue=0.009403562551495099\n",
      "cd=0.7411442768595896\n",
      "omnibus=friedman\n",
      "posthoc=nemenyi\n",
      "all_normal=False\n",
      "pvals_shapiro=[0.11548826843500137, 0.0003265207342337817, 0.0011479731183499098]\n",
      "homoscedastic=False\n",
      "pval_homogeneity=0.025901241341294127\n",
      "homogeneity_test=levene\n",
      "alpha=0.05\n",
      "alpha_normality=0.016666666666666666\n",
      "num_samples=20\n",
      "posterior_matrix=\n",
      "None\n",
      "decision_matrix=\n",
      "None\n",
      "rope=None\n",
      "rope_mode=None\n",
      "effect_size=akinshin_gamma)\n"
     ]
    }
   ],
   "source": [
    "result = autorank(df, verbose=False)\n",
    "print(result)"
   ]
  },
  {
   "cell_type": "code",
   "execution_count": 28,
   "id": "random-laundry",
   "metadata": {},
   "outputs": [
    {
     "name": "stdout",
     "output_type": "stream",
     "text": [
      "The statistical analysis was conducted for 3 populations with 20 paired samples.\n",
      "The family-wise significance level of the tests is alpha=0.050.\n",
      "We rejected the null hypothesis that the population is normal for the populations model_2 (p=0.000) and model_0 (p=0.001). Therefore, we assume that not all populations are normal.\n",
      "Because we have more than two populations and the populations and some of them are not normal, we use the non-parametric Friedman test as omnibus test to determine if there are any significant differences between the median values of the populations. We use the post-hoc Nemenyi test to infer which differences are significant. We report the median (MD), the median absolute deviation (MAD) and the mean rank (MR) among all populations over the samples. Differences between populations are significant, if the difference of the mean rank is greater than the critical distance CD=0.741 of the Nemenyi test.\n",
      "We reject the null hypothesis (p=0.009) of the Friedman test that there is no difference in the central tendency of the populations model_1 (MD=0.930+-0.145, MAD=0.104, MR=1.700), model_2 (MD=0.897+-0.260, MAD=0.152, MR=1.750), and model_0 (MD=0.646+-0.432, MAD=0.354, MR=2.550). Therefore, we assume that there is a statistically significant difference between the median values of the populations.\n",
      "Based on the post-hoc Nemenyi test, we assume that there are no significant differences within the following groups: model_1 and model_2. All other differences are significant.\n"
     ]
    }
   ],
   "source": [
    "create_report(result)"
   ]
  },
  {
   "cell_type": "code",
   "execution_count": 29,
   "id": "latin-possibility",
   "metadata": {},
   "outputs": [
    {
     "data": {
      "text/plain": [
       "<matplotlib.axes._axes.Axes at 0x2345b76cb50>"
      ]
     },
     "execution_count": 29,
     "metadata": {},
     "output_type": "execute_result"
    },
    {
     "data": {
      "image/png": "[encoded data removed]",
      "text/plain": [
       "<Figure size 432x104.4 with 1 Axes>"
      ]
     },
     "metadata": {},
     "output_type": "display_data"
    }
   ],
   "source": [
    "plot_stats(result)"
   ]
  },
  {
   "cell_type": "code",
   "execution_count": null,
   "id": "basic-conducting",
   "metadata": {},
   "outputs": [],
   "source": []
  }
 ],
 "metadata": {
  "kernelspec": {
   "display_name": "Python 3",
   "language": "python",
   "name": "python3"
  },
  "language_info": {
   "codemirror_mode": {
    "name": "ipython",
    "version": 3
   },
   "file_extension": ".py",
   "mimetype": "text/x-python",
   "name": "python",
   "nbconvert_exporter": "python",
   "pygments_lexer": "ipython3",
   "version": "3.9.2"
  }
 },
 "nbformat": 4,
 "nbformat_minor": 5
}
