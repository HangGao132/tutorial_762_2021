{
 "cells": [
  {
   "cell_type": "markdown",
   "id": "natural-pierre",
   "metadata": {},
   "source": [
    "# Tutorial 1\n",
    "\n",
    "## Install Python 3\n",
    "\n",
    "Using Anaconda on Windows and Mac\n",
    "\n",
    "- For Windows and Mac: https://www.anaconda.com/products/individual\n",
    "\n",
    "Using ***pip*** on Ubuntu\n",
    "\n",
    "- For Linux: https://www.tensorflow.org/install/pip#ubuntu\n",
    "\n",
    "\n",
    "## (Optional) Download git\n",
    "\n",
    "- On Winodws and Mac: https://git-scm.com/downloads\n",
    "- On Linux: https://git-scm.com/download/linux\n",
    "- Create a free account on [GitHub](https://github.com/).\n",
    "- (Optional) Create a new repository with name **tutorial-762** on GitHub, and commit the jupyter notebook for this lab to the repo.\n",
    "\n",
    "\n",
    "## Configure your environment (Anaconda on Winodws)\n",
    "\n",
    "Options when installing Anaconda\n",
    "\n",
    "- For all users (If your username has a space, the 1st option doesn't work)\n",
    "\n",
    "<img src=\"../imgs/conda_install_01.jpg\" style=\"height:300px;\">\n",
    "\n",
    "\n",
    "- Untick 1st checkbox: We use Anaconda PoserShell.\n",
    "- Tick 2nd checkbox: Let other apps to know Python is installed.\n",
    "\n",
    "<img src=\"../imgs/conda_install_02.jpg\" style=\"height:300px;\">\n",
    "\n",
    "On Windows machine, press \"Windows\" key, type \"anaconda powershell\n",
    "\n",
    "- Linux and Mac: use forward slash \"/\"\n",
    "- Windows uses backslash \"\\\"\n",
    "\n",
    "```\n",
    "# Create a directory for our project\n",
    "cd ~\n",
    "# \"-p\" is for creating \"Parents\"\n",
    "mkdir -p workspace/761\n",
    "cd ./workspace/761\n",
    "\n",
    "# Create a new virtual environment\n",
    "conda env list\n",
    "conda create --name venv\n",
    "conda activate venv\n",
    "# \"-n\" for name, \"-c\" for channel\n",
    "conda install -n venv -c conda-forge numpy scikit-learn matplotlib jupyterlab pandas\n",
    "\n",
    "# Check the python version and packages\n",
    "# Avoid install packages using pip, unless you cannot find it in conda-forge.\n",
    "python --version\n",
    "python -m pip list\n",
    "\n",
    "# To delete the environment\n",
    "conda env remove --name venv\n",
    "```\n",
    "\n",
    "\n"
   ]
  },
  {
   "cell_type": "markdown",
   "id": "vertical-count",
   "metadata": {},
   "source": [
    "### Let's talk about version control\n",
    "\n",
    "```\n",
    "python --verion\n",
    "python -m pip --version\n",
    "```\n",
    "Example: **Python 3.9.2**\n",
    "\n",
    "- 1st digit: Major update. <span style=\"color:red\">Changes that break backward compatibility.</span>\n",
    "- 2nd digit: Minor update. Backward compatible with new features\n",
    "- 3rd digit: Patch update. Backward compatible with bug fixes\n",
    "\n",
    "### Caveat\n",
    "\n",
    "- Do NOT update the package, if you don't need to use the new feature from the next patch!\n",
    "- If a template is provided, do NOT import extra libray, or modify the given cells.\n",
    "- After you completed the assignment, use \"Restart kernel and run all cells...\" to validate your results."
   ]
  },
  {
   "cell_type": "code",
   "execution_count": 1,
   "id": "negative-apple",
   "metadata": {},
   "outputs": [],
   "source": [
    "import os\n",
    "\n",
    "import numpy as np\n",
    "from sklearn import tree\n",
    "from sklearn.tree import DecisionTreeClassifier\n",
    "from sklearn import datasets\n",
    "from sklearn.model_selection import train_test_split\n",
    "import matplotlib.pyplot as plt"
   ]
  },
  {
   "cell_type": "code",
   "execution_count": 2,
   "id": "subject-width",
   "metadata": {},
   "outputs": [],
   "source": [
    "# Reload local python files every 2 seconds\n",
    "\n",
    "%load_ext autoreload\n",
    "%autoreload 2"
   ]
  },
  {
   "cell_type": "markdown",
   "id": "mature-border",
   "metadata": {},
   "source": [
    "## Basic controls\n",
    "\n",
    "- shift: code completion\n",
    "- shift + tab: tooltip\n",
    "- shift + enter: Execute current cell\n",
    "- ctrl + /: comment or uncomment\n",
    "- A: add cell Above\n",
    "- B: add cell Below\n",
    "- M: Change to Markdown mode\n",
    "- DD: Delete current cell\n",
    "- ctrl + i: Open tooltip tab\n",
    "\n",
    "Tooltips are disabled when the Python script is executing.\n",
    "\n",
    "## NOTE\n",
    "\n",
    "- After \"Restart kernel and run all cells...\", save the *.ipynb file as a HTML file.\n",
    "- We ask you to submit a HTML file. This feature is NOT available in VS Code and Google Colab.\n"
   ]
  },
  {
   "cell_type": "markdown",
   "id": "immune-million",
   "metadata": {},
   "source": [
    "## Let's start with a simple Decision Tree Classifier\n",
    "\n",
    "### Where do I start?\n",
    "\n",
    "- Google **sklearn tree**\n",
    "- First results: https://scikit-learn.org/stable/modules/generated/sklearn.tree.DecisionTreeClassifier.html\n",
    "- Take a look at the example, and think about which hyperparameters you need to change.\n",
    "\n"
   ]
  },
  {
   "cell_type": "code",
   "execution_count": 3,
   "id": "falling-alaska",
   "metadata": {},
   "outputs": [
    {
     "name": "stdout",
     "output_type": "stream",
     "text": [
      "(150, 4) (150,)\n"
     ]
    }
   ],
   "source": [
    "iris = datasets.load_iris()\n",
    "X = iris.data\n",
    "y = iris.target\n",
    "\n",
    "print(X.shape, y.shape)"
   ]
  },
  {
   "cell_type": "markdown",
   "id": "equipped-treatment",
   "metadata": {},
   "source": [
    "### Seed\n",
    "\n",
    "- Becareful about using a seed!\n",
    "- sklearn uses the random number generator (RNG) from numpy, but many functions in sklearn take 'random_state' as a hypterparameter.\n",
    "- If you provide a seed, your code should be output the same value everytime you run it. (May not apply to Neural Network, GPU uses different RNG.)\n",
    "- Do NOT use the same seed for repeated experiments. (This will be a topic later.)"
   ]
  },
  {
   "cell_type": "code",
   "execution_count": 4,
   "id": "israeli-synthetic",
   "metadata": {},
   "outputs": [],
   "source": [
    "RANDOM_STATE = 1234\n",
    "np.random.seed(RANDOM_STATE)"
   ]
  },
  {
   "cell_type": "code",
   "execution_count": 5,
   "id": "finished-child",
   "metadata": {},
   "outputs": [
    {
     "name": "stdout",
     "output_type": "stream",
     "text": [
      "(120, 4) (30, 4)\n"
     ]
    }
   ],
   "source": [
    "X_train, X_test, y_train, y_test = train_test_split(X, y, test_size=0.2, random_state=RANDOM_STATE)\n",
    "print(X_train.shape, X_test.shape)"
   ]
  },
  {
   "cell_type": "code",
   "execution_count": 6,
   "id": "outstanding-secretariat",
   "metadata": {},
   "outputs": [
    {
     "data": {
      "text/plain": [
       "DecisionTreeClassifier(random_state=1234)"
      ]
     },
     "execution_count": 6,
     "metadata": {},
     "output_type": "execute_result"
    }
   ],
   "source": [
    "model = DecisionTreeClassifier(random_state=RANDOM_STATE)\n",
    "model.fit(X_train, y_train)"
   ]
  },
  {
   "cell_type": "code",
   "execution_count": 7,
   "id": "lucky-leader",
   "metadata": {},
   "outputs": [
    {
     "name": "stdout",
     "output_type": "stream",
     "text": [
      "Accuracy on train set: 100.00%\n",
      "Accuracy on test set: 100.00%\n"
     ]
    }
   ],
   "source": [
    "score = model.score(X_train, y_train)\n",
    "print('Accuracy on train set: {:.2f}%'.format(score * 100))\n",
    "\n",
    "score = model.score(X_test, y_test)\n",
    "print('Accuracy on test set: {:.2f}%'.format(score * 100))"
   ]
  },
  {
   "cell_type": "code",
   "execution_count": 8,
   "id": "analyzed-straight",
   "metadata": {},
   "outputs": [
    {
     "data": {
      "image/png": "[encoded data removed]",
      "text/plain": [
       "<Figure size 432x432 with 1 Axes>"
      ]
     },
     "metadata": {
      "needs_background": "light"
     },
     "output_type": "display_data"
    }
   ],
   "source": [
    "pred = model.predict(X_test)\n",
    "\n",
    "plt.figure(figsize=(6, 6))\n",
    "plt.scatter(X_test[:, 0], X_test[:, 1], c=pred)\n",
    "plt.xlabel('Feature 1')\n",
    "plt.ylabel('Feature 2')\n",
    "plt.title('Iris - Test set')\n",
    "plt.show()"
   ]
  },
  {
   "cell_type": "markdown",
   "id": "certain-highlight",
   "metadata": {},
   "source": [
    "## Save and load results"
   ]
  },
  {
   "cell_type": "code",
   "execution_count": 9,
   "id": "waiting-eugene",
   "metadata": {},
   "outputs": [],
   "source": [
    "# Create a folder in Python\n",
    "if not os.path.exists('results'):\n",
    "    os.mkdir('results')\n",
    "\n",
    "if not os.path.exists('data'):\n",
    "    os.mkdir('data')"
   ]
  },
  {
   "cell_type": "code",
   "execution_count": 10,
   "id": "utility-light",
   "metadata": {},
   "outputs": [],
   "source": [
    "path = os.path.join('results', 'pred_test.npy')\n",
    "np.save(path, pred)"
   ]
  },
  {
   "cell_type": "code",
   "execution_count": 11,
   "id": "exclusive-brick",
   "metadata": {},
   "outputs": [
    {
     "name": "stdout",
     "output_type": "stream",
     "text": [
      "[1 1 2 0 1 0 0 0 1 2 1 0 2 1 0 1 2 0 2 1 1 1 1 1 2 0 2 1 2 0]\n"
     ]
    }
   ],
   "source": [
    "data = np.load(path)\n",
    "print(data)"
   ]
  },
  {
   "cell_type": "code",
   "execution_count": 12,
   "id": "capable-challenge",
   "metadata": {},
   "outputs": [
    {
     "data": {
      "text/plain": [
       "True"
      ]
     },
     "execution_count": 12,
     "metadata": {},
     "output_type": "execute_result"
    }
   ],
   "source": [
    "np.all(data == pred)"
   ]
  },
  {
   "cell_type": "markdown",
   "id": "northern-shepherd",
   "metadata": {},
   "source": [
    "## Load data using Pandas\n",
    "\n",
    "Download data from: https://archive.ics.uci.edu/ml/datasets/Yeast"
   ]
  },
  {
   "cell_type": "code",
   "execution_count": 13,
   "id": "gorgeous-diana",
   "metadata": {},
   "outputs": [],
   "source": [
    "import pandas as pd\n",
    "from pandas.api.types import CategoricalDtype"
   ]
  },
  {
   "cell_type": "code",
   "execution_count": 14,
   "id": "studied-spouse",
   "metadata": {},
   "outputs": [
    {
     "name": "stdout",
     "output_type": "stream",
     "text": [
      "../data/yeast.data\n"
     ]
    }
   ],
   "source": [
    "# Different system uses different file path format\n",
    "# Windows: \"\\\" backslash\n",
    "# Linux and Mac: \"/\" slash\n",
    "\n",
    "PATH_YEAST = os.path.join('..', 'data', 'yeast.data')\n",
    "print(PATH_YEAST)"
   ]
  },
  {
   "cell_type": "code",
   "execution_count": 15,
   "id": "labeled-mailing",
   "metadata": {},
   "outputs": [
    {
     "data": {
      "text/html": [
       "<div>\n",
       "<style scoped>\n",
       "    .dataframe tbody tr th:only-of-type {\n",
       "        vertical-align: middle;\n",
       "    }\n",
       "\n",
       "    .dataframe tbody tr th {\n",
       "        vertical-align: top;\n",
       "    }\n",
       "\n",
       "    .dataframe thead th {\n",
       "        text-align: right;\n",
       "    }\n",
       "</style>\n",
       "<table border=\"1\" class=\"dataframe\">\n",
       "  <thead>\n",
       "    <tr style=\"text-align: right;\">\n",
       "      <th></th>\n",
       "      <th>Sequence</th>\n",
       "      <th>Mcg</th>\n",
       "      <th>Gvh</th>\n",
       "      <th>Alm</th>\n",
       "      <th>Mit</th>\n",
       "      <th>Erl</th>\n",
       "      <th>Pox</th>\n",
       "      <th>Vac</th>\n",
       "      <th>Nuc</th>\n",
       "      <th>Class</th>\n",
       "    </tr>\n",
       "  </thead>\n",
       "  <tbody>\n",
       "    <tr>\n",
       "      <th>0</th>\n",
       "      <td>ADT1_YEAST</td>\n",
       "      <td>0.58</td>\n",
       "      <td>0.61</td>\n",
       "      <td>0.47</td>\n",
       "      <td>0.13</td>\n",
       "      <td>0.5</td>\n",
       "      <td>0.0</td>\n",
       "      <td>0.48</td>\n",
       "      <td>0.22</td>\n",
       "      <td>MIT</td>\n",
       "    </tr>\n",
       "    <tr>\n",
       "      <th>1</th>\n",
       "      <td>ADT2_YEAST</td>\n",
       "      <td>0.43</td>\n",
       "      <td>0.67</td>\n",
       "      <td>0.48</td>\n",
       "      <td>0.27</td>\n",
       "      <td>0.5</td>\n",
       "      <td>0.0</td>\n",
       "      <td>0.53</td>\n",
       "      <td>0.22</td>\n",
       "      <td>MIT</td>\n",
       "    </tr>\n",
       "    <tr>\n",
       "      <th>2</th>\n",
       "      <td>ADT3_YEAST</td>\n",
       "      <td>0.64</td>\n",
       "      <td>0.62</td>\n",
       "      <td>0.49</td>\n",
       "      <td>0.15</td>\n",
       "      <td>0.5</td>\n",
       "      <td>0.0</td>\n",
       "      <td>0.53</td>\n",
       "      <td>0.22</td>\n",
       "      <td>MIT</td>\n",
       "    </tr>\n",
       "    <tr>\n",
       "      <th>3</th>\n",
       "      <td>AAR2_YEAST</td>\n",
       "      <td>0.58</td>\n",
       "      <td>0.44</td>\n",
       "      <td>0.57</td>\n",
       "      <td>0.13</td>\n",
       "      <td>0.5</td>\n",
       "      <td>0.0</td>\n",
       "      <td>0.54</td>\n",
       "      <td>0.22</td>\n",
       "      <td>NUC</td>\n",
       "    </tr>\n",
       "    <tr>\n",
       "      <th>4</th>\n",
       "      <td>AATM_YEAST</td>\n",
       "      <td>0.42</td>\n",
       "      <td>0.44</td>\n",
       "      <td>0.48</td>\n",
       "      <td>0.54</td>\n",
       "      <td>0.5</td>\n",
       "      <td>0.0</td>\n",
       "      <td>0.48</td>\n",
       "      <td>0.22</td>\n",
       "      <td>MIT</td>\n",
       "    </tr>\n",
       "  </tbody>\n",
       "</table>\n",
       "</div>"
      ],
      "text/plain": [
       "     Sequence   Mcg   Gvh   Alm   Mit  Erl  Pox   Vac   Nuc Class\n",
       "0  ADT1_YEAST  0.58  0.61  0.47  0.13  0.5  0.0  0.48  0.22   MIT\n",
       "1  ADT2_YEAST  0.43  0.67  0.48  0.27  0.5  0.0  0.53  0.22   MIT\n",
       "2  ADT3_YEAST  0.64  0.62  0.49  0.15  0.5  0.0  0.53  0.22   MIT\n",
       "3  AAR2_YEAST  0.58  0.44  0.57  0.13  0.5  0.0  0.54  0.22   NUC\n",
       "4  AATM_YEAST  0.42  0.44  0.48  0.54  0.5  0.0  0.48  0.22   MIT"
      ]
     },
     "execution_count": 15,
     "metadata": {},
     "output_type": "execute_result"
    }
   ],
   "source": [
    "COLUMN_NAMES = ['Sequence', 'Mcg', 'Gvh', 'Alm', 'Mit', 'Erl', 'Pox', 'Vac', 'Nuc', 'Class']\n",
    "yeast = pd.read_csv(PATH_YEAST, sep='\\s+', names=COLUMN_NAMES, header=None)\n",
    "yeast.head()"
   ]
  },
  {
   "cell_type": "code",
   "execution_count": 16,
   "id": "spiritual-given",
   "metadata": {},
   "outputs": [
    {
     "data": {
      "text/html": [
       "<div>\n",
       "<style scoped>\n",
       "    .dataframe tbody tr th:only-of-type {\n",
       "        vertical-align: middle;\n",
       "    }\n",
       "\n",
       "    .dataframe tbody tr th {\n",
       "        vertical-align: top;\n",
       "    }\n",
       "\n",
       "    .dataframe thead th {\n",
       "        text-align: right;\n",
       "    }\n",
       "</style>\n",
       "<table border=\"1\" class=\"dataframe\">\n",
       "  <thead>\n",
       "    <tr style=\"text-align: right;\">\n",
       "      <th></th>\n",
       "      <th>Mcg</th>\n",
       "      <th>Gvh</th>\n",
       "      <th>Alm</th>\n",
       "      <th>Mit</th>\n",
       "      <th>Erl</th>\n",
       "      <th>Pox</th>\n",
       "      <th>Vac</th>\n",
       "      <th>Nuc</th>\n",
       "      <th>Class</th>\n",
       "    </tr>\n",
       "  </thead>\n",
       "  <tbody>\n",
       "    <tr>\n",
       "      <th>0</th>\n",
       "      <td>0.58</td>\n",
       "      <td>0.61</td>\n",
       "      <td>0.47</td>\n",
       "      <td>0.13</td>\n",
       "      <td>0.5</td>\n",
       "      <td>0.0</td>\n",
       "      <td>0.48</td>\n",
       "      <td>0.22</td>\n",
       "      <td>MIT</td>\n",
       "    </tr>\n",
       "    <tr>\n",
       "      <th>1</th>\n",
       "      <td>0.43</td>\n",
       "      <td>0.67</td>\n",
       "      <td>0.48</td>\n",
       "      <td>0.27</td>\n",
       "      <td>0.5</td>\n",
       "      <td>0.0</td>\n",
       "      <td>0.53</td>\n",
       "      <td>0.22</td>\n",
       "      <td>MIT</td>\n",
       "    </tr>\n",
       "    <tr>\n",
       "      <th>2</th>\n",
       "      <td>0.64</td>\n",
       "      <td>0.62</td>\n",
       "      <td>0.49</td>\n",
       "      <td>0.15</td>\n",
       "      <td>0.5</td>\n",
       "      <td>0.0</td>\n",
       "      <td>0.53</td>\n",
       "      <td>0.22</td>\n",
       "      <td>MIT</td>\n",
       "    </tr>\n",
       "    <tr>\n",
       "      <th>3</th>\n",
       "      <td>0.58</td>\n",
       "      <td>0.44</td>\n",
       "      <td>0.57</td>\n",
       "      <td>0.13</td>\n",
       "      <td>0.5</td>\n",
       "      <td>0.0</td>\n",
       "      <td>0.54</td>\n",
       "      <td>0.22</td>\n",
       "      <td>NUC</td>\n",
       "    </tr>\n",
       "    <tr>\n",
       "      <th>4</th>\n",
       "      <td>0.42</td>\n",
       "      <td>0.44</td>\n",
       "      <td>0.48</td>\n",
       "      <td>0.54</td>\n",
       "      <td>0.5</td>\n",
       "      <td>0.0</td>\n",
       "      <td>0.48</td>\n",
       "      <td>0.22</td>\n",
       "      <td>MIT</td>\n",
       "    </tr>\n",
       "  </tbody>\n",
       "</table>\n",
       "</div>"
      ],
      "text/plain": [
       "    Mcg   Gvh   Alm   Mit  Erl  Pox   Vac   Nuc Class\n",
       "0  0.58  0.61  0.47  0.13  0.5  0.0  0.48  0.22   MIT\n",
       "1  0.43  0.67  0.48  0.27  0.5  0.0  0.53  0.22   MIT\n",
       "2  0.64  0.62  0.49  0.15  0.5  0.0  0.53  0.22   MIT\n",
       "3  0.58  0.44  0.57  0.13  0.5  0.0  0.54  0.22   NUC\n",
       "4  0.42  0.44  0.48  0.54  0.5  0.0  0.48  0.22   MIT"
      ]
     },
     "execution_count": 16,
     "metadata": {},
     "output_type": "execute_result"
    }
   ],
   "source": [
    "# We don't need 1st column, let's drop it.\n",
    "yeast = yeast.drop(['Sequence'], axis=1)\n",
    "yeast.head()"
   ]
  },
  {
   "cell_type": "code",
   "execution_count": 17,
   "id": "progressive-hebrew",
   "metadata": {},
   "outputs": [
    {
     "data": {
      "text/plain": [
       "array(['MIT', 'NUC', 'CYT', 'ME1', 'EXC', 'ME2', 'ME3', 'VAC', 'POX',\n",
       "       'ERL'], dtype=object)"
      ]
     },
     "execution_count": 17,
     "metadata": {},
     "output_type": "execute_result"
    }
   ],
   "source": [
    "# Find how many output classes are in the dataset.\n",
    "classes = yeast['Class'].unique()\n",
    "classes"
   ]
  },
  {
   "cell_type": "code",
   "execution_count": 18,
   "id": "available-kansas",
   "metadata": {},
   "outputs": [
    {
     "data": {
      "text/html": [
       "<div>\n",
       "<style scoped>\n",
       "    .dataframe tbody tr th:only-of-type {\n",
       "        vertical-align: middle;\n",
       "    }\n",
       "\n",
       "    .dataframe tbody tr th {\n",
       "        vertical-align: top;\n",
       "    }\n",
       "\n",
       "    .dataframe thead th {\n",
       "        text-align: right;\n",
       "    }\n",
       "</style>\n",
       "<table border=\"1\" class=\"dataframe\">\n",
       "  <thead>\n",
       "    <tr style=\"text-align: right;\">\n",
       "      <th></th>\n",
       "      <th>Mcg</th>\n",
       "      <th>Gvh</th>\n",
       "      <th>Alm</th>\n",
       "      <th>Mit</th>\n",
       "      <th>Erl</th>\n",
       "      <th>Pox</th>\n",
       "      <th>Vac</th>\n",
       "      <th>Nuc</th>\n",
       "      <th>Class</th>\n",
       "    </tr>\n",
       "  </thead>\n",
       "  <tbody>\n",
       "    <tr>\n",
       "      <th>0</th>\n",
       "      <td>0.58</td>\n",
       "      <td>0.61</td>\n",
       "      <td>0.47</td>\n",
       "      <td>0.13</td>\n",
       "      <td>0.5</td>\n",
       "      <td>0.0</td>\n",
       "      <td>0.48</td>\n",
       "      <td>0.22</td>\n",
       "      <td>0</td>\n",
       "    </tr>\n",
       "    <tr>\n",
       "      <th>1</th>\n",
       "      <td>0.43</td>\n",
       "      <td>0.67</td>\n",
       "      <td>0.48</td>\n",
       "      <td>0.27</td>\n",
       "      <td>0.5</td>\n",
       "      <td>0.0</td>\n",
       "      <td>0.53</td>\n",
       "      <td>0.22</td>\n",
       "      <td>0</td>\n",
       "    </tr>\n",
       "    <tr>\n",
       "      <th>2</th>\n",
       "      <td>0.64</td>\n",
       "      <td>0.62</td>\n",
       "      <td>0.49</td>\n",
       "      <td>0.15</td>\n",
       "      <td>0.5</td>\n",
       "      <td>0.0</td>\n",
       "      <td>0.53</td>\n",
       "      <td>0.22</td>\n",
       "      <td>0</td>\n",
       "    </tr>\n",
       "    <tr>\n",
       "      <th>3</th>\n",
       "      <td>0.58</td>\n",
       "      <td>0.44</td>\n",
       "      <td>0.57</td>\n",
       "      <td>0.13</td>\n",
       "      <td>0.5</td>\n",
       "      <td>0.0</td>\n",
       "      <td>0.54</td>\n",
       "      <td>0.22</td>\n",
       "      <td>1</td>\n",
       "    </tr>\n",
       "    <tr>\n",
       "      <th>4</th>\n",
       "      <td>0.42</td>\n",
       "      <td>0.44</td>\n",
       "      <td>0.48</td>\n",
       "      <td>0.54</td>\n",
       "      <td>0.5</td>\n",
       "      <td>0.0</td>\n",
       "      <td>0.48</td>\n",
       "      <td>0.22</td>\n",
       "      <td>0</td>\n",
       "    </tr>\n",
       "  </tbody>\n",
       "</table>\n",
       "</div>"
      ],
      "text/plain": [
       "    Mcg   Gvh   Alm   Mit  Erl  Pox   Vac   Nuc  Class\n",
       "0  0.58  0.61  0.47  0.13  0.5  0.0  0.48  0.22      0\n",
       "1  0.43  0.67  0.48  0.27  0.5  0.0  0.53  0.22      0\n",
       "2  0.64  0.62  0.49  0.15  0.5  0.0  0.53  0.22      0\n",
       "3  0.58  0.44  0.57  0.13  0.5  0.0  0.54  0.22      1\n",
       "4  0.42  0.44  0.48  0.54  0.5  0.0  0.48  0.22      0"
      ]
     },
     "execution_count": 18,
     "metadata": {},
     "output_type": "execute_result"
    }
   ],
   "source": [
    "# Replace text categorical data to integers.\n",
    "yeast_types = CategoricalDtype(categories=classes)\n",
    "yeast['Class'] = yeast['Class'].astype(yeast_types).cat.codes.astype('long')\n",
    "yeast.head()"
   ]
  },
  {
   "cell_type": "code",
   "execution_count": 19,
   "id": "marked-damages",
   "metadata": {},
   "outputs": [
    {
     "data": {
      "text/plain": [
       "0       0.58\n",
       "1       0.43\n",
       "2       0.64\n",
       "3       0.58\n",
       "4       0.42\n",
       "        ... \n",
       "1479    0.81\n",
       "1480    0.47\n",
       "1481    0.67\n",
       "1482    0.43\n",
       "1483    0.65\n",
       "Name: Mcg, Length: 1484, dtype: float64"
      ]
     },
     "execution_count": 19,
     "metadata": {},
     "output_type": "execute_result"
    }
   ],
   "source": [
    "# Be careful of type conversion. There will be rounding error when convert from float64 to float32.\n",
    "yeast['Mcg']"
   ]
  },
  {
   "cell_type": "code",
   "execution_count": 20,
   "id": "alive-pharmacology",
   "metadata": {},
   "outputs": [],
   "source": [
    "PATH_YEAST_CLEAN = os.path.join('results', 'yeast.csv')\n",
    "yeast.to_csv(PATH_YEAST_CLEAN, index=False)"
   ]
  },
  {
   "cell_type": "code",
   "execution_count": 21,
   "id": "intense-newport",
   "metadata": {},
   "outputs": [
    {
     "name": "stdout",
     "output_type": "stream",
     "text": [
      "(1484, 8) (1484,)\n"
     ]
    }
   ],
   "source": [
    "# Split data \n",
    "y = yeast['Class'].to_numpy()\n",
    "X = yeast.drop(['Class'], axis=1).to_numpy()\n",
    "\n",
    "print(X.shape, y.shape)"
   ]
  },
  {
   "cell_type": "code",
   "execution_count": 22,
   "id": "northern-dimension",
   "metadata": {},
   "outputs": [
    {
     "name": "stdout",
     "output_type": "stream",
     "text": [
      "8 10\n"
     ]
    }
   ],
   "source": [
    "n_features = X.shape[1]\n",
    "n_classes = len(np.unique(y))\n",
    "print(n_features, n_classes)"
   ]
  },
  {
   "cell_type": "code",
   "execution_count": 23,
   "id": "equal-implement",
   "metadata": {},
   "outputs": [
    {
     "name": "stdout",
     "output_type": "stream",
     "text": [
      "(1187, 8) (297, 8)\n"
     ]
    }
   ],
   "source": [
    "X_train, X_test, y_train, y_test = train_test_split(X, y, test_size=0.2, random_state=RANDOM_STATE)\n",
    "print(X_train.shape, X_test.shape)"
   ]
  },
  {
   "cell_type": "code",
   "execution_count": 24,
   "id": "talented-teddy",
   "metadata": {},
   "outputs": [
    {
     "data": {
      "text/plain": [
       "DecisionTreeClassifier(random_state=1234)"
      ]
     },
     "execution_count": 24,
     "metadata": {},
     "output_type": "execute_result"
    }
   ],
   "source": [
    "model = DecisionTreeClassifier(random_state=RANDOM_STATE)\n",
    "model.fit(X_train, y_train)"
   ]
  },
  {
   "cell_type": "code",
   "execution_count": 25,
   "id": "rolled-british",
   "metadata": {},
   "outputs": [
    {
     "name": "stdout",
     "output_type": "stream",
     "text": [
      "Accuracy on train set: 100.00%\n",
      "Accuracy on test set: 55.22%\n"
     ]
    }
   ],
   "source": [
    "score = model.score(X_train, y_train)\n",
    "print('Accuracy on train set: {:.2f}%'.format(score * 100))\n",
    "\n",
    "score = model.score(X_test, y_test)\n",
    "print('Accuracy on test set: {:.2f}%'.format(score * 100))"
   ]
  },
  {
   "cell_type": "markdown",
   "id": "abandoned-darkness",
   "metadata": {},
   "source": [
    "## 6. Another example on loading data\n",
    "\n",
    "Donwload the zip file from: https://sci2s.ugr.es/keel/dataset.php?cod=112"
   ]
  },
  {
   "cell_type": "code",
   "execution_count": 26,
   "id": "mineral-elite",
   "metadata": {},
   "outputs": [
    {
     "data": {
      "text/html": [
       "<div>\n",
       "<style scoped>\n",
       "    .dataframe tbody tr th:only-of-type {\n",
       "        vertical-align: middle;\n",
       "    }\n",
       "\n",
       "    .dataframe tbody tr th {\n",
       "        vertical-align: top;\n",
       "    }\n",
       "\n",
       "    .dataframe thead th {\n",
       "        text-align: right;\n",
       "    }\n",
       "</style>\n",
       "<table border=\"1\" class=\"dataframe\">\n",
       "  <thead>\n",
       "    <tr style=\"text-align: right;\">\n",
       "      <th></th>\n",
       "      <th>Mcg</th>\n",
       "      <th>Gvh</th>\n",
       "      <th>Alm</th>\n",
       "      <th>Mit</th>\n",
       "      <th>Erl</th>\n",
       "      <th>Pox</th>\n",
       "      <th>Vac</th>\n",
       "      <th>Nuc</th>\n",
       "      <th>Class</th>\n",
       "    </tr>\n",
       "  </thead>\n",
       "  <tbody>\n",
       "    <tr>\n",
       "      <th>0</th>\n",
       "      <td>0.58</td>\n",
       "      <td>0.61</td>\n",
       "      <td>0.47</td>\n",
       "      <td>0.13</td>\n",
       "      <td>0.5</td>\n",
       "      <td>0.0</td>\n",
       "      <td>0.48</td>\n",
       "      <td>0.22</td>\n",
       "      <td>MIT</td>\n",
       "    </tr>\n",
       "    <tr>\n",
       "      <th>1</th>\n",
       "      <td>0.43</td>\n",
       "      <td>0.67</td>\n",
       "      <td>0.48</td>\n",
       "      <td>0.27</td>\n",
       "      <td>0.5</td>\n",
       "      <td>0.0</td>\n",
       "      <td>0.53</td>\n",
       "      <td>0.22</td>\n",
       "      <td>MIT</td>\n",
       "    </tr>\n",
       "    <tr>\n",
       "      <th>2</th>\n",
       "      <td>0.64</td>\n",
       "      <td>0.62</td>\n",
       "      <td>0.49</td>\n",
       "      <td>0.15</td>\n",
       "      <td>0.5</td>\n",
       "      <td>0.0</td>\n",
       "      <td>0.53</td>\n",
       "      <td>0.22</td>\n",
       "      <td>MIT</td>\n",
       "    </tr>\n",
       "    <tr>\n",
       "      <th>3</th>\n",
       "      <td>0.58</td>\n",
       "      <td>0.44</td>\n",
       "      <td>0.57</td>\n",
       "      <td>0.13</td>\n",
       "      <td>0.5</td>\n",
       "      <td>0.0</td>\n",
       "      <td>0.54</td>\n",
       "      <td>0.22</td>\n",
       "      <td>NUC</td>\n",
       "    </tr>\n",
       "    <tr>\n",
       "      <th>4</th>\n",
       "      <td>0.42</td>\n",
       "      <td>0.44</td>\n",
       "      <td>0.48</td>\n",
       "      <td>0.54</td>\n",
       "      <td>0.5</td>\n",
       "      <td>0.0</td>\n",
       "      <td>0.48</td>\n",
       "      <td>0.22</td>\n",
       "      <td>MIT</td>\n",
       "    </tr>\n",
       "  </tbody>\n",
       "</table>\n",
       "</div>"
      ],
      "text/plain": [
       "    Mcg   Gvh   Alm   Mit  Erl  Pox   Vac   Nuc Class\n",
       "0  0.58  0.61  0.47  0.13  0.5  0.0  0.48  0.22   MIT\n",
       "1  0.43  0.67  0.48  0.27  0.5  0.0  0.53  0.22   MIT\n",
       "2  0.64  0.62  0.49  0.15  0.5  0.0  0.53  0.22   MIT\n",
       "3  0.58  0.44  0.57  0.13  0.5  0.0  0.54  0.22   NUC\n",
       "4  0.42  0.44  0.48  0.54  0.5  0.0  0.48  0.22   MIT"
      ]
     },
     "execution_count": 26,
     "metadata": {},
     "output_type": "execute_result"
    }
   ],
   "source": [
    "PATH_YEAST = os.path.join('..', 'data', 'yeast', 'yeast.dat')\n",
    "COLUMN_NAMES = ['Mcg', 'Gvh', 'Alm', 'Mit', 'Erl', 'Pox', 'Vac', 'Nuc', 'Class']\n",
    "yeast = pd.read_csv(PATH_YEAST, sep=',', names=COLUMN_NAMES, header=None, skiprows=13)\n",
    "yeast.head()"
   ]
  },
  {
   "cell_type": "code",
   "execution_count": 27,
   "id": "casual-sending",
   "metadata": {},
   "outputs": [
    {
     "data": {
      "text/plain": [
       "0       0.58\n",
       "1       0.43\n",
       "2       0.64\n",
       "3       0.58\n",
       "4       0.42\n",
       "        ... \n",
       "1479    0.82\n",
       "1480    0.35\n",
       "1481    0.41\n",
       "1482    0.51\n",
       "1483    0.67\n",
       "Name: Mcg, Length: 1484, dtype: float64"
      ]
     },
     "execution_count": 27,
     "metadata": {},
     "output_type": "execute_result"
    }
   ],
   "source": [
    "# If the data type is not string, then you have loaded the csv file correctly.\n",
    "yeast['Mcg']"
   ]
  },
  {
   "cell_type": "markdown",
   "id": "flush-medicare",
   "metadata": {},
   "source": [
    "## Convert Pandas DataFrame to Numpy array"
   ]
  },
  {
   "cell_type": "code",
   "execution_count": 28,
   "id": "paperback-macedonia",
   "metadata": {},
   "outputs": [
    {
     "data": {
      "text/plain": [
       "array([[0.58, 0.61, 0.47],\n",
       "       [0.43, 0.67, 0.48],\n",
       "       [0.64, 0.62, 0.49],\n",
       "       ...,\n",
       "       [0.41, 0.47, 0.5 ],\n",
       "       [0.51, 0.45, 0.62],\n",
       "       [0.67, 0.57, 0.36]])"
      ]
     },
     "execution_count": 28,
     "metadata": {},
     "output_type": "execute_result"
    }
   ],
   "source": [
    "# select some columns and convert it to numpy array\n",
    "data = yeast[['Mcg', 'Gvh', 'Alm']].to_numpy()\n",
    "data"
   ]
  },
  {
   "cell_type": "code",
   "execution_count": 29,
   "id": "humanitarian-packet",
   "metadata": {},
   "outputs": [
    {
     "data": {
      "text/plain": [
       "array([[0.58, 0.61, 0.47],\n",
       "       [0.43, 0.67, 0.48],\n",
       "       [0.64, 0.62, 0.49],\n",
       "       [0.58, 0.44, 0.57],\n",
       "       [0.42, 0.44, 0.48]])"
      ]
     },
     "execution_count": 29,
     "metadata": {},
     "output_type": "execute_result"
    }
   ],
   "source": [
    "# Indexing \n",
    "data[:5]  # from 0 to 4 (Select 5 rows)"
   ]
  },
  {
   "cell_type": "code",
   "execution_count": 30,
   "id": "computational-investigation",
   "metadata": {},
   "outputs": [
    {
     "data": {
      "text/plain": [
       "array([[0.82, 0.63, 0.47],\n",
       "       [0.35, 0.29, 0.46],\n",
       "       [0.41, 0.47, 0.5 ],\n",
       "       [0.51, 0.45, 0.62],\n",
       "       [0.67, 0.57, 0.36]])"
      ]
     },
     "execution_count": 30,
     "metadata": {},
     "output_type": "execute_result"
    }
   ],
   "source": [
    "# Select the last 5 rows\n",
    "data[-5:]"
   ]
  },
  {
   "cell_type": "code",
   "execution_count": 31,
   "id": "applied-translator",
   "metadata": {},
   "outputs": [
    {
     "data": {
      "text/plain": [
       "array([0.61, 0.67, 0.62, ..., 0.47, 0.45, 0.57])"
      ]
     },
     "execution_count": 31,
     "metadata": {},
     "output_type": "execute_result"
    }
   ],
   "source": [
    "# Select the 2nd column\n",
    "data[:, 1]"
   ]
  },
  {
   "cell_type": "code",
   "execution_count": 32,
   "id": "fatty-relevance",
   "metadata": {},
   "outputs": [
    {
     "data": {
      "text/html": [
       "<div>\n",
       "<style scoped>\n",
       "    .dataframe tbody tr th:only-of-type {\n",
       "        vertical-align: middle;\n",
       "    }\n",
       "\n",
       "    .dataframe tbody tr th {\n",
       "        vertical-align: top;\n",
       "    }\n",
       "\n",
       "    .dataframe thead th {\n",
       "        text-align: right;\n",
       "    }\n",
       "</style>\n",
       "<table border=\"1\" class=\"dataframe\">\n",
       "  <thead>\n",
       "    <tr style=\"text-align: right;\">\n",
       "      <th></th>\n",
       "      <th>Mcg</th>\n",
       "      <th>Gvh</th>\n",
       "      <th>Alm</th>\n",
       "    </tr>\n",
       "  </thead>\n",
       "  <tbody>\n",
       "    <tr>\n",
       "      <th>0</th>\n",
       "      <td>0.58</td>\n",
       "      <td>0.61</td>\n",
       "      <td>0.47</td>\n",
       "    </tr>\n",
       "    <tr>\n",
       "      <th>1</th>\n",
       "      <td>0.43</td>\n",
       "      <td>0.67</td>\n",
       "      <td>0.48</td>\n",
       "    </tr>\n",
       "    <tr>\n",
       "      <th>2</th>\n",
       "      <td>0.64</td>\n",
       "      <td>0.62</td>\n",
       "      <td>0.49</td>\n",
       "    </tr>\n",
       "    <tr>\n",
       "      <th>3</th>\n",
       "      <td>0.58</td>\n",
       "      <td>0.44</td>\n",
       "      <td>0.57</td>\n",
       "    </tr>\n",
       "    <tr>\n",
       "      <th>4</th>\n",
       "      <td>0.42</td>\n",
       "      <td>0.44</td>\n",
       "      <td>0.48</td>\n",
       "    </tr>\n",
       "  </tbody>\n",
       "</table>\n",
       "</div>"
      ],
      "text/plain": [
       "    Mcg   Gvh   Alm\n",
       "0  0.58  0.61  0.47\n",
       "1  0.43  0.67  0.48\n",
       "2  0.64  0.62  0.49\n",
       "3  0.58  0.44  0.57\n",
       "4  0.42  0.44  0.48"
      ]
     },
     "execution_count": 32,
     "metadata": {},
     "output_type": "execute_result"
    }
   ],
   "source": [
    "# Create DataFrame from numpy\n",
    "\n",
    "df = pd.DataFrame(data, columns=['Mcg', 'Gvh', 'Alm'])\n",
    "df.head()"
   ]
  },
  {
   "cell_type": "code",
   "execution_count": 33,
   "id": "democratic-radius",
   "metadata": {},
   "outputs": [
    {
     "data": {
      "text/html": [
       "<div>\n",
       "<style scoped>\n",
       "    .dataframe tbody tr th:only-of-type {\n",
       "        vertical-align: middle;\n",
       "    }\n",
       "\n",
       "    .dataframe tbody tr th {\n",
       "        vertical-align: top;\n",
       "    }\n",
       "\n",
       "    .dataframe thead th {\n",
       "        text-align: right;\n",
       "    }\n",
       "</style>\n",
       "<table border=\"1\" class=\"dataframe\">\n",
       "  <thead>\n",
       "    <tr style=\"text-align: right;\">\n",
       "      <th></th>\n",
       "      <th>Mcg</th>\n",
       "      <th>Gvh</th>\n",
       "      <th>Alm</th>\n",
       "    </tr>\n",
       "  </thead>\n",
       "  <tbody>\n",
       "    <tr>\n",
       "      <th>0</th>\n",
       "      <td>0.58</td>\n",
       "      <td>0.61</td>\n",
       "      <td>0.47</td>\n",
       "    </tr>\n",
       "    <tr>\n",
       "      <th>1</th>\n",
       "      <td>0.43</td>\n",
       "      <td>0.67</td>\n",
       "      <td>0.48</td>\n",
       "    </tr>\n",
       "    <tr>\n",
       "      <th>2</th>\n",
       "      <td>0.64</td>\n",
       "      <td>0.62</td>\n",
       "      <td>0.49</td>\n",
       "    </tr>\n",
       "    <tr>\n",
       "      <th>3</th>\n",
       "      <td>0.58</td>\n",
       "      <td>0.44</td>\n",
       "      <td>0.57</td>\n",
       "    </tr>\n",
       "    <tr>\n",
       "      <th>4</th>\n",
       "      <td>0.42</td>\n",
       "      <td>0.44</td>\n",
       "      <td>0.48</td>\n",
       "    </tr>\n",
       "  </tbody>\n",
       "</table>\n",
       "</div>"
      ],
      "text/plain": [
       "    Mcg   Gvh   Alm\n",
       "0  0.58  0.61  0.47\n",
       "1  0.43  0.67  0.48\n",
       "2  0.64  0.62  0.49\n",
       "3  0.58  0.44  0.57\n",
       "4  0.42  0.44  0.48"
      ]
     },
     "execution_count": 33,
     "metadata": {},
     "output_type": "execute_result"
    }
   ],
   "source": [
    "# Create DataFrame from numpy, but build it by columns\n",
    "df = pd.DataFrame({\n",
    "    'Mcg': data[:, 0],\n",
    "    'Gvh': data[:, 1],\n",
    "    'Alm': data[:, 2]\n",
    "})\n",
    "df.head()"
   ]
  },
  {
   "cell_type": "code",
   "execution_count": 34,
   "id": "loving-format",
   "metadata": {},
   "outputs": [
    {
     "data": {
      "text/plain": [
       "(1484, 3)"
      ]
     },
     "execution_count": 34,
     "metadata": {},
     "output_type": "execute_result"
    }
   ],
   "source": [
    "df.shape"
   ]
  },
  {
   "cell_type": "code",
   "execution_count": 35,
   "id": "empty-comment",
   "metadata": {},
   "outputs": [
    {
     "data": {
      "text/html": [
       "<div>\n",
       "<style scoped>\n",
       "    .dataframe tbody tr th:only-of-type {\n",
       "        vertical-align: middle;\n",
       "    }\n",
       "\n",
       "    .dataframe tbody tr th {\n",
       "        vertical-align: top;\n",
       "    }\n",
       "\n",
       "    .dataframe thead th {\n",
       "        text-align: right;\n",
       "    }\n",
       "</style>\n",
       "<table border=\"1\" class=\"dataframe\">\n",
       "  <thead>\n",
       "    <tr style=\"text-align: right;\">\n",
       "      <th></th>\n",
       "      <th>Mcg</th>\n",
       "      <th>Gvh</th>\n",
       "      <th>Alm</th>\n",
       "    </tr>\n",
       "  </thead>\n",
       "  <tbody>\n",
       "    <tr>\n",
       "      <th>0</th>\n",
       "      <td>0.58</td>\n",
       "      <td>0.61</td>\n",
       "      <td>0.47</td>\n",
       "    </tr>\n",
       "    <tr>\n",
       "      <th>1</th>\n",
       "      <td>0.43</td>\n",
       "      <td>0.67</td>\n",
       "      <td>0.48</td>\n",
       "    </tr>\n",
       "    <tr>\n",
       "      <th>2</th>\n",
       "      <td>0.64</td>\n",
       "      <td>0.62</td>\n",
       "      <td>0.49</td>\n",
       "    </tr>\n",
       "    <tr>\n",
       "      <th>3</th>\n",
       "      <td>0.58</td>\n",
       "      <td>0.44</td>\n",
       "      <td>0.57</td>\n",
       "    </tr>\n",
       "    <tr>\n",
       "      <th>4</th>\n",
       "      <td>0.42</td>\n",
       "      <td>0.44</td>\n",
       "      <td>0.48</td>\n",
       "    </tr>\n",
       "  </tbody>\n",
       "</table>\n",
       "</div>"
      ],
      "text/plain": [
       "    Mcg   Gvh   Alm\n",
       "0  0.58  0.61  0.47\n",
       "1  0.43  0.67  0.48\n",
       "2  0.64  0.62  0.49\n",
       "3  0.58  0.44  0.57\n",
       "4  0.42  0.44  0.48"
      ]
     },
     "execution_count": 35,
     "metadata": {},
     "output_type": "execute_result"
    }
   ],
   "source": [
    "# Same indexing techinques also works on DataFrame\n",
    "df[:5]"
   ]
  },
  {
   "cell_type": "code",
   "execution_count": 36,
   "id": "italic-sampling",
   "metadata": {},
   "outputs": [
    {
     "data": {
      "text/html": [
       "<div>\n",
       "<style scoped>\n",
       "    .dataframe tbody tr th:only-of-type {\n",
       "        vertical-align: middle;\n",
       "    }\n",
       "\n",
       "    .dataframe tbody tr th {\n",
       "        vertical-align: top;\n",
       "    }\n",
       "\n",
       "    .dataframe thead th {\n",
       "        text-align: right;\n",
       "    }\n",
       "</style>\n",
       "<table border=\"1\" class=\"dataframe\">\n",
       "  <thead>\n",
       "    <tr style=\"text-align: right;\">\n",
       "      <th></th>\n",
       "      <th>Mcg</th>\n",
       "      <th>Gvh</th>\n",
       "      <th>Alm</th>\n",
       "    </tr>\n",
       "  </thead>\n",
       "  <tbody>\n",
       "    <tr>\n",
       "      <th>2</th>\n",
       "      <td>0.64</td>\n",
       "      <td>0.62</td>\n",
       "      <td>0.49</td>\n",
       "    </tr>\n",
       "    <tr>\n",
       "      <th>3</th>\n",
       "      <td>0.58</td>\n",
       "      <td>0.44</td>\n",
       "      <td>0.57</td>\n",
       "    </tr>\n",
       "    <tr>\n",
       "      <th>4</th>\n",
       "      <td>0.42</td>\n",
       "      <td>0.44</td>\n",
       "      <td>0.48</td>\n",
       "    </tr>\n",
       "    <tr>\n",
       "      <th>5</th>\n",
       "      <td>0.51</td>\n",
       "      <td>0.40</td>\n",
       "      <td>0.56</td>\n",
       "    </tr>\n",
       "    <tr>\n",
       "      <th>6</th>\n",
       "      <td>0.50</td>\n",
       "      <td>0.54</td>\n",
       "      <td>0.48</td>\n",
       "    </tr>\n",
       "  </tbody>\n",
       "</table>\n",
       "</div>"
      ],
      "text/plain": [
       "    Mcg   Gvh   Alm\n",
       "2  0.64  0.62  0.49\n",
       "3  0.58  0.44  0.57\n",
       "4  0.42  0.44  0.48\n",
       "5  0.51  0.40  0.56\n",
       "6  0.50  0.54  0.48"
      ]
     },
     "execution_count": 36,
     "metadata": {},
     "output_type": "execute_result"
    }
   ],
   "source": [
    "df[2:7]"
   ]
  },
  {
   "cell_type": "markdown",
   "id": "cardiovascular-moral",
   "metadata": {},
   "source": [
    "## Questions for Week 2\n",
    "\n",
    "Compute **entropy** and **information-gain** for all possible outcomes, build a decision tree without using *sklearn*.\n",
    "\n",
    "### Dataset 1\n",
    "\n",
    "```text\n",
    "Colour,Length,Size,Brightness,Shape,Class\n",
    "red,long,larger,bright,triangle,True\n",
    "red,long,small,bright,circle,False\n",
    "red,long,small,bright,triangle,True\n",
    "red,short,larger,dull,circle,False\n",
    "red,short,larger,bright,triangle,True\n",
    "blue,short,larger,bright,triangle,False\n",
    "```\n",
    "\n",
    "### Dataset 2\n",
    "\n",
    "```text\n",
    "Blue,triangle,big,heavy,long,True\n",
    "Red,triangle,big,lite,long,False\n",
    "Blue,triangle,big,lite,long,True\n",
    "Red,triangle,small,heavy,short,False\n",
    "Blue,triangle,small,heavy,long,True\n",
    "Blue,square,small,heavy,long,False\n",
    "```\n"
   ]
  },
  {
   "cell_type": "code",
   "execution_count": 37,
   "id": "emerging-account",
   "metadata": {},
   "outputs": [],
   "source": [
    "PATH_DATA_1 = os.path.join('data', 'dataset1_csv')\n",
    "# For writing only\n",
    "\n",
    "text = \"\"\"Colour,Length,Size,Brightness,Shape,Class\n",
    "red,long,larger,bright,triangle,True\n",
    "red,long,small,bright,circle,False\n",
    "red,long,small,bright,triangle,True\n",
    "red,short,larger,dull,circle,False\n",
    "red,short,larger,bright,triangle,True\n",
    "blue,short,larger,bright,triangle,False\"\"\"\n",
    "with open(PATH_DATA_1, 'w') as f:\n",
    "    f.write(text)\n",
    "    f.close()"
   ]
  },
  {
   "cell_type": "code",
   "execution_count": 38,
   "id": "certain-spread",
   "metadata": {},
   "outputs": [
    {
     "data": {
      "text/html": [
       "<div>\n",
       "<style scoped>\n",
       "    .dataframe tbody tr th:only-of-type {\n",
       "        vertical-align: middle;\n",
       "    }\n",
       "\n",
       "    .dataframe tbody tr th {\n",
       "        vertical-align: top;\n",
       "    }\n",
       "\n",
       "    .dataframe thead th {\n",
       "        text-align: right;\n",
       "    }\n",
       "</style>\n",
       "<table border=\"1\" class=\"dataframe\">\n",
       "  <thead>\n",
       "    <tr style=\"text-align: right;\">\n",
       "      <th></th>\n",
       "      <th>Colour</th>\n",
       "      <th>Length</th>\n",
       "      <th>Size</th>\n",
       "      <th>Brightness</th>\n",
       "      <th>Shape</th>\n",
       "      <th>Class</th>\n",
       "    </tr>\n",
       "  </thead>\n",
       "  <tbody>\n",
       "    <tr>\n",
       "      <th>0</th>\n",
       "      <td>red</td>\n",
       "      <td>long</td>\n",
       "      <td>larger</td>\n",
       "      <td>bright</td>\n",
       "      <td>triangle</td>\n",
       "      <td>True</td>\n",
       "    </tr>\n",
       "    <tr>\n",
       "      <th>1</th>\n",
       "      <td>red</td>\n",
       "      <td>long</td>\n",
       "      <td>small</td>\n",
       "      <td>bright</td>\n",
       "      <td>circle</td>\n",
       "      <td>False</td>\n",
       "    </tr>\n",
       "    <tr>\n",
       "      <th>2</th>\n",
       "      <td>red</td>\n",
       "      <td>long</td>\n",
       "      <td>small</td>\n",
       "      <td>bright</td>\n",
       "      <td>triangle</td>\n",
       "      <td>True</td>\n",
       "    </tr>\n",
       "    <tr>\n",
       "      <th>3</th>\n",
       "      <td>red</td>\n",
       "      <td>short</td>\n",
       "      <td>larger</td>\n",
       "      <td>dull</td>\n",
       "      <td>circle</td>\n",
       "      <td>False</td>\n",
       "    </tr>\n",
       "    <tr>\n",
       "      <th>4</th>\n",
       "      <td>red</td>\n",
       "      <td>short</td>\n",
       "      <td>larger</td>\n",
       "      <td>bright</td>\n",
       "      <td>triangle</td>\n",
       "      <td>True</td>\n",
       "    </tr>\n",
       "    <tr>\n",
       "      <th>5</th>\n",
       "      <td>blue</td>\n",
       "      <td>short</td>\n",
       "      <td>larger</td>\n",
       "      <td>bright</td>\n",
       "      <td>triangle</td>\n",
       "      <td>False</td>\n",
       "    </tr>\n",
       "  </tbody>\n",
       "</table>\n",
       "</div>"
      ],
      "text/plain": [
       "  Colour Length    Size Brightness     Shape  Class\n",
       "0    red   long  larger     bright  triangle   True\n",
       "1    red   long   small     bright    circle  False\n",
       "2    red   long   small     bright  triangle   True\n",
       "3    red  short  larger       dull    circle  False\n",
       "4    red  short  larger     bright  triangle   True\n",
       "5   blue  short  larger     bright  triangle  False"
      ]
     },
     "execution_count": 38,
     "metadata": {},
     "output_type": "execute_result"
    }
   ],
   "source": [
    "df1 = pd.read_csv(PATH_DATA_1)\n",
    "df1"
   ]
  },
  {
   "cell_type": "code",
   "execution_count": 39,
   "id": "running-municipality",
   "metadata": {},
   "outputs": [
    {
     "data": {
      "text/plain": [
       "Index(['Colour', 'Length', 'Size', 'Brightness', 'Shape', 'Class'], dtype='object')"
      ]
     },
     "execution_count": 39,
     "metadata": {},
     "output_type": "execute_result"
    }
   ],
   "source": [
    "df1.columns"
   ]
  },
  {
   "cell_type": "code",
   "execution_count": 40,
   "id": "civilian-spirituality",
   "metadata": {},
   "outputs": [],
   "source": [
    "for col in df1.columns:\n",
    "    df1[col] = df1[col].astype('category').cat.codes.astype('long')"
   ]
  },
  {
   "cell_type": "code",
   "execution_count": 41,
   "id": "distributed-slovenia",
   "metadata": {},
   "outputs": [
    {
     "data": {
      "text/plain": [
       "0    1\n",
       "1    1\n",
       "2    1\n",
       "3    1\n",
       "4    1\n",
       "5    0\n",
       "Name: Colour, dtype: int64"
      ]
     },
     "execution_count": 41,
     "metadata": {},
     "output_type": "execute_result"
    }
   ],
   "source": [
    "df1['Colour']"
   ]
  },
  {
   "cell_type": "code",
   "execution_count": 42,
   "id": "differential-congress",
   "metadata": {},
   "outputs": [
    {
     "data": {
      "text/html": [
       "<div>\n",
       "<style scoped>\n",
       "    .dataframe tbody tr th:only-of-type {\n",
       "        vertical-align: middle;\n",
       "    }\n",
       "\n",
       "    .dataframe tbody tr th {\n",
       "        vertical-align: top;\n",
       "    }\n",
       "\n",
       "    .dataframe thead th {\n",
       "        text-align: right;\n",
       "    }\n",
       "</style>\n",
       "<table border=\"1\" class=\"dataframe\">\n",
       "  <thead>\n",
       "    <tr style=\"text-align: right;\">\n",
       "      <th></th>\n",
       "      <th>Colour</th>\n",
       "      <th>Length</th>\n",
       "      <th>Size</th>\n",
       "      <th>Brightness</th>\n",
       "      <th>Shape</th>\n",
       "      <th>Class</th>\n",
       "    </tr>\n",
       "  </thead>\n",
       "  <tbody>\n",
       "    <tr>\n",
       "      <th>0</th>\n",
       "      <td>1</td>\n",
       "      <td>0</td>\n",
       "      <td>0</td>\n",
       "      <td>0</td>\n",
       "      <td>1</td>\n",
       "      <td>1</td>\n",
       "    </tr>\n",
       "    <tr>\n",
       "      <th>1</th>\n",
       "      <td>1</td>\n",
       "      <td>0</td>\n",
       "      <td>1</td>\n",
       "      <td>0</td>\n",
       "      <td>0</td>\n",
       "      <td>0</td>\n",
       "    </tr>\n",
       "    <tr>\n",
       "      <th>2</th>\n",
       "      <td>1</td>\n",
       "      <td>0</td>\n",
       "      <td>1</td>\n",
       "      <td>0</td>\n",
       "      <td>1</td>\n",
       "      <td>1</td>\n",
       "    </tr>\n",
       "    <tr>\n",
       "      <th>3</th>\n",
       "      <td>1</td>\n",
       "      <td>1</td>\n",
       "      <td>0</td>\n",
       "      <td>1</td>\n",
       "      <td>0</td>\n",
       "      <td>0</td>\n",
       "    </tr>\n",
       "    <tr>\n",
       "      <th>4</th>\n",
       "      <td>1</td>\n",
       "      <td>1</td>\n",
       "      <td>0</td>\n",
       "      <td>0</td>\n",
       "      <td>1</td>\n",
       "      <td>1</td>\n",
       "    </tr>\n",
       "    <tr>\n",
       "      <th>5</th>\n",
       "      <td>0</td>\n",
       "      <td>1</td>\n",
       "      <td>0</td>\n",
       "      <td>0</td>\n",
       "      <td>1</td>\n",
       "      <td>0</td>\n",
       "    </tr>\n",
       "  </tbody>\n",
       "</table>\n",
       "</div>"
      ],
      "text/plain": [
       "   Colour  Length  Size  Brightness  Shape  Class\n",
       "0       1       0     0           0      1      1\n",
       "1       1       0     1           0      0      0\n",
       "2       1       0     1           0      1      1\n",
       "3       1       1     0           1      0      0\n",
       "4       1       1     0           0      1      1\n",
       "5       0       1     0           0      1      0"
      ]
     },
     "execution_count": 42,
     "metadata": {},
     "output_type": "execute_result"
    }
   ],
   "source": [
    "df1"
   ]
  },
  {
   "cell_type": "code",
   "execution_count": 43,
   "id": "outdoor-jamaica",
   "metadata": {},
   "outputs": [
    {
     "name": "stdout",
     "output_type": "stream",
     "text": [
      "[[1 0 0 0 1]\n",
      " [1 0 1 0 0]\n",
      " [1 0 1 0 1]\n",
      " [1 1 0 1 0]\n",
      " [1 1 0 0 1]\n",
      " [0 1 0 0 1]]\n"
     ]
    }
   ],
   "source": [
    "X = df1[['Colour', 'Length', 'Size', 'Brightness', 'Shape']].to_numpy()\n",
    "y = df1[['Class']].to_numpy()\n",
    "\n",
    "print(X)"
   ]
  },
  {
   "cell_type": "code",
   "execution_count": 44,
   "id": "elegant-hardwood",
   "metadata": {},
   "outputs": [
    {
     "data": {
      "text/plain": [
       "DecisionTreeClassifier(criterion='entropy')"
      ]
     },
     "execution_count": 44,
     "metadata": {},
     "output_type": "execute_result"
    }
   ],
   "source": [
    "model = DecisionTreeClassifier(criterion='entropy')\n",
    "model.fit(X, y)"
   ]
  },
  {
   "cell_type": "code",
   "execution_count": 45,
   "id": "configured-cookbook",
   "metadata": {},
   "outputs": [
    {
     "data": {
      "image/png": "[encoded data removed]",
      "text/plain": [
       "<Figure size 432x288 with 1 Axes>"
      ]
     },
     "metadata": {
      "needs_background": "light"
     },
     "output_type": "display_data"
    }
   ],
   "source": [
    "# X[0]: Colour\n",
    "# X[1]: Length\n",
    "# X[2]: Size\n",
    "# X[3]: Brightness\n",
    "# X[4]: Shape\n",
    "\n",
    "tree.plot_tree(model)\n",
    "plt.show()"
   ]
  },
  {
   "cell_type": "code",
   "execution_count": 46,
   "id": "determined-oxide",
   "metadata": {},
   "outputs": [],
   "source": [
    "from math import log2"
   ]
  },
  {
   "cell_type": "code",
   "execution_count": 47,
   "id": "coral-bachelor",
   "metadata": {},
   "outputs": [
    {
     "name": "stdout",
     "output_type": "stream",
     "text": [
      "ent_dataset1: 1.0\n"
     ]
    }
   ],
   "source": [
    "# Root. Without any prior information.\n",
    "ent_dataset1 = -3./6.*log2(3./6.) - 3./6.*log2(3./6.)\n",
    "print('ent_dataset1:', ent_dataset1)"
   ]
  },
  {
   "cell_type": "code",
   "execution_count": 48,
   "id": "vulnerable-bulletin",
   "metadata": {},
   "outputs": [
    {
     "name": "stdout",
     "output_type": "stream",
     "text": [
      "ent_cir: 0.0\n",
      "ent_tri: 0.8112781244591328\n",
      "info_gain: 0.4591479170272448\n"
     ]
    }
   ],
   "source": [
    "# Left node\n",
    "# 2 circles, all of them are False\n",
    "ent_cir = 0/2. - 2./2.*log2(2./2.) # log2(0) = -inf\n",
    "print('ent_cir:', ent_cir)\n",
    "\n",
    "# Right node\n",
    "# 4 triangles, 3 of them are True\n",
    "ent_tri = -3./4.*log2(3./4.) - 1./4.*log2(1./4.)\n",
    "print('ent_tri:', ent_tri)\n",
    "\n",
    "# Weighted information gain: 4 out of 6 are triangles, the rest of them are circles.\n",
    "info_gain = 1. - 2./6.*ent_cir - 4./6.*ent_tri \n",
    "print('info_gain:', info_gain)"
   ]
  },
  {
   "cell_type": "markdown",
   "id": "81c9d504",
   "metadata": {},
   "source": [
    "- Why do we use Log2?\n",
    "\n",
    "    Information are stored in 2 bits. "
   ]
  },
  {
   "cell_type": "code",
   "execution_count": null,
   "id": "4078c290",
   "metadata": {},
   "outputs": [],
   "source": []
  }
 ],
 "metadata": {
  "kernelspec": {
   "display_name": "Python 3",
   "language": "python",
   "name": "python3"
  },
  "language_info": {
   "codemirror_mode": {
    "name": "ipython",
    "version": 3
   },
   "file_extension": ".py",
   "mimetype": "text/x-python",
   "name": "python",
   "nbconvert_exporter": "python",
   "pygments_lexer": "ipython3",
   "version": "3.6.9"
  }
 },
 "nbformat": 4,
 "nbformat_minor": 5
}
